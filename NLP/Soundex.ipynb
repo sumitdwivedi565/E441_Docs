{
 "cells": [
  {
   "cell_type": "code",
   "execution_count": 7,
   "metadata": {},
   "outputs": [],
   "source": [
    "def get_soundex(token):\n",
    "    token=token.upper()\n",
    "    soundex=\"\"\n",
    "    soundex += token[0]\n",
    "    dictionary = {\"BFPV\":\"1\",\"CGJKQSXZ\":\"2\",\"DT\":\"3\",\"L\":\"4\",\"MN\":\"5\",\"R\":\"6\",\"AEIOUHWY\":\".\"}\n",
    "    for char in token[1:]:\n",
    "        for key in dictionary.keys():\n",
    "            if char in key:\n",
    "                code=dictionary[key]\n",
    "                if code!= soundex[-1]:\n",
    "                    soundex+=code\n",
    "                    \n",
    "    soundex = soundex.replace(\".\",\"\")\n",
    "    # trim or pad to make soundex A 4 CHARACTER code\n",
    "    soundex = soundex[:4].ljust(4,\"0\")\n",
    "    return soundex"
   ]
  },
  {
   "cell_type": "code",
   "execution_count": 8,
   "metadata": {},
   "outputs": [
    {
     "name": "stdout",
     "output_type": "stream",
     "text": [
      "B510\n"
     ]
    }
   ],
   "source": [
    "print(get_soundex(\"Bombay\"))"
   ]
  },
  {
   "cell_type": "code",
   "execution_count": 9,
   "metadata": {},
   "outputs": [
    {
     "name": "stdout",
     "output_type": "stream",
     "text": [
      "B510\n"
     ]
    }
   ],
   "source": [
    "print(get_soundex(\"Bambai\"))"
   ]
  },
  {
   "cell_type": "code",
   "execution_count": 10,
   "metadata": {},
   "outputs": [
    {
     "name": "stdout",
     "output_type": "stream",
     "text": [
      "A264\n",
      "A264\n",
      "A264\n",
      "A264\n"
     ]
    }
   ],
   "source": [
    "print(get_soundex(\"Aggrawal\"))\n",
    "print(get_soundex(\"Aggarwal\"))\n",
    "print(get_soundex(\"Agarwal\"))\n",
    "print(get_soundex(\"Agrawal\"))"
   ]
  },
  {
   "cell_type": "code",
   "execution_count": null,
   "metadata": {},
   "outputs": [],
   "source": []
  }
 ],
 "metadata": {
  "kernelspec": {
   "display_name": "Python 3",
   "language": "python",
   "name": "python3"
  },
  "language_info": {
   "codemirror_mode": {
    "name": "ipython",
    "version": 3
   },
   "file_extension": ".py",
   "mimetype": "text/x-python",
   "name": "python",
   "nbconvert_exporter": "python",
   "pygments_lexer": "ipython3",
   "version": "3.7.3"
  }
 },
 "nbformat": 4,
 "nbformat_minor": 2
}
