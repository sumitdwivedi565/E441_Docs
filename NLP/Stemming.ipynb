{
 "cells": [
  {
   "cell_type": "code",
   "execution_count": 1,
   "metadata": {},
   "outputs": [],
   "source": [
    "import pandas as pd\n",
    "from nltk.tokenize import word_tokenize\n",
    "from nltk.stem.porter import PorterStemmer\n",
    "from nltk.stem.snowball import SnowballStemmer"
   ]
  },
  {
   "cell_type": "code",
   "execution_count": 3,
   "metadata": {},
   "outputs": [
    {
     "name": "stdout",
     "output_type": "stream",
     "text": [
      "i know that the best can be achieved with dilgent efforts, so as to show everyone that nothing is impossible if you do the sheer hardwork\n"
     ]
    }
   ],
   "source": [
    "text=\"i know that the best can be achieved with dilgent efforts, so as to show everyone that nothing is impossible if you do the sheer hardwork\"\n",
    "print(text)"
   ]
  },
  {
   "cell_type": "code",
   "execution_count": 4,
   "metadata": {},
   "outputs": [
    {
     "name": "stdout",
     "output_type": "stream",
     "text": [
      "['i', 'know', 'that', 'the', 'best', 'can', 'be', 'achieved', 'with', 'dilgent', 'efforts', ',', 'so', 'as', 'to', 'show', 'everyone', 'that', 'nothing', 'is', 'impossible', 'if', 'you', 'do', 'the', 'sheer', 'hardwork']\n"
     ]
    }
   ],
   "source": [
    "tokens = word_tokenize(text.lower())\n",
    "print(tokens)"
   ]
  },
  {
   "cell_type": "code",
   "execution_count": 5,
   "metadata": {},
   "outputs": [
    {
     "name": "stdout",
     "output_type": "stream",
     "text": [
      "['i', 'know', 'that', 'the', 'best', 'can', 'be', 'achiev', 'with', 'dilgent', 'effort', ',', 'so', 'as', 'to', 'show', 'everyon', 'that', 'noth', 'is', 'imposs', 'if', 'you', 'do', 'the', 'sheer', 'hardwork']\n"
     ]
    },
    {
     "data": {
      "text/plain": [
       "27"
      ]
     },
     "execution_count": 5,
     "metadata": {},
     "output_type": "execute_result"
    }
   ],
   "source": [
    "stemmer=PorterStemmer()\n",
    "porter_stemmed = [stemmer.stem(token) for token in tokens]\n",
    "print(porter_stemmed)\n",
    "len(porter_stemmed)"
   ]
  },
  {
   "cell_type": "code",
   "execution_count": 6,
   "metadata": {},
   "outputs": [
    {
     "name": "stdout",
     "output_type": "stream",
     "text": [
      "['i', 'know', 'that', 'the', 'best', 'can', 'be', 'achiev', 'with', 'dilgent', 'effort', ',', 'so', 'as', 'to', 'show', 'everyon', 'that', 'noth', 'is', 'imposs', 'if', 'you', 'do', 'the', 'sheer', 'hardwork']\n"
     ]
    },
    {
     "data": {
      "text/plain": [
       "27"
      ]
     },
     "execution_count": 6,
     "metadata": {},
     "output_type": "execute_result"
    }
   ],
   "source": [
    "# snowball stemmer\n",
    "\n",
    "stemmer = SnowballStemmer(\"english\")\n",
    "snowball_stemmed = [stemmer.stem(token) for token in tokens]\n",
    "print(snowball_stemmed)\n",
    "len(snowball_stemmed)"
   ]
  },
  {
   "cell_type": "code",
   "execution_count": 15,
   "metadata": {},
   "outputs": [],
   "source": [
    "df=pd.DataFrame({'token':tokens,'porter_stemmed':porter_stemmed,'snowball_stemmed':snowball_stemmed})\n",
    "df=df[['token','porter_stemmed','snowball_stemmed']]"
   ]
  },
  {
   "cell_type": "code",
   "execution_count": 16,
   "metadata": {},
   "outputs": [
    {
     "data": {
      "text/html": [
       "<div>\n",
       "<style scoped>\n",
       "    .dataframe tbody tr th:only-of-type {\n",
       "        vertical-align: middle;\n",
       "    }\n",
       "\n",
       "    .dataframe tbody tr th {\n",
       "        vertical-align: top;\n",
       "    }\n",
       "\n",
       "    .dataframe thead th {\n",
       "        text-align: right;\n",
       "    }\n",
       "</style>\n",
       "<table border=\"1\" class=\"dataframe\">\n",
       "  <thead>\n",
       "    <tr style=\"text-align: right;\">\n",
       "      <th></th>\n",
       "      <th>token</th>\n",
       "      <th>porter_stemmed</th>\n",
       "      <th>snowball_stemmed</th>\n",
       "    </tr>\n",
       "  </thead>\n",
       "  <tbody>\n",
       "    <tr>\n",
       "      <th>7</th>\n",
       "      <td>achieved</td>\n",
       "      <td>achiev</td>\n",
       "      <td>achiev</td>\n",
       "    </tr>\n",
       "    <tr>\n",
       "      <th>10</th>\n",
       "      <td>efforts</td>\n",
       "      <td>effort</td>\n",
       "      <td>effort</td>\n",
       "    </tr>\n",
       "    <tr>\n",
       "      <th>16</th>\n",
       "      <td>everyone</td>\n",
       "      <td>everyon</td>\n",
       "      <td>everyon</td>\n",
       "    </tr>\n",
       "    <tr>\n",
       "      <th>18</th>\n",
       "      <td>nothing</td>\n",
       "      <td>noth</td>\n",
       "      <td>noth</td>\n",
       "    </tr>\n",
       "    <tr>\n",
       "      <th>20</th>\n",
       "      <td>impossible</td>\n",
       "      <td>imposs</td>\n",
       "      <td>imposs</td>\n",
       "    </tr>\n",
       "  </tbody>\n",
       "</table>\n",
       "</div>"
      ],
      "text/plain": [
       "         token porter_stemmed snowball_stemmed\n",
       "7     achieved         achiev           achiev\n",
       "10     efforts         effort           effort\n",
       "16    everyone        everyon          everyon\n",
       "18     nothing           noth             noth\n",
       "20  impossible         imposs           imposs"
      ]
     },
     "execution_count": 16,
     "metadata": {},
     "output_type": "execute_result"
    }
   ],
   "source": [
    "df[(df.token !=df.porter_stemmed) | (df.token != df.snowball_stemmed)]"
   ]
  },
  {
   "cell_type": "code",
   "execution_count": null,
   "metadata": {},
   "outputs": [],
   "source": []
  }
 ],
 "metadata": {
  "kernelspec": {
   "display_name": "Python 3",
   "language": "python",
   "name": "python3"
  },
  "language_info": {
   "codemirror_mode": {
    "name": "ipython",
    "version": 3
   },
   "file_extension": ".py",
   "mimetype": "text/x-python",
   "name": "python",
   "nbconvert_exporter": "python",
   "pygments_lexer": "ipython3",
   "version": "3.7.3"
  }
 },
 "nbformat": 4,
 "nbformat_minor": 2
}
