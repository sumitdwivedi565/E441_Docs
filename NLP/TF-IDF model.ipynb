{
 "cells": [
  {
   "cell_type": "code",
   "execution_count": 3,
   "metadata": {},
   "outputs": [],
   "source": [
    "import pandas as pd\n",
    "from nltk.tokenize import word_tokenize\n",
    "from nltk.corpus import stopwords\n",
    "from sklearn.feature_extraction.text import TfidfVectorizer"
   ]
  },
  {
   "cell_type": "code",
   "execution_count": 4,
   "metadata": {},
   "outputs": [
    {
     "name": "stdout",
     "output_type": "stream",
     "text": [
      "['I am learning NLP module from scratch which covers the topics like lexical analysis and syntactical analysis,', 'These modules will help me in writing a better text analytics algorithm thereby helping me in identifying various predictions.']\n"
     ]
    }
   ],
   "source": [
    "documents = [\"I am learning NLP module from scratch which covers the topics like lexical analysis and syntactical analysis,\",\n",
    "            \"These modules will help me in writing a better text analytics algorithm thereby helping me in identifying various predictions.\"\n",
    "            ]\n",
    "print(documents)"
   ]
  },
  {
   "cell_type": "code",
   "execution_count": 5,
   "metadata": {},
   "outputs": [],
   "source": [
    "from nltk.stem.porter import PorterStemmer\n",
    "stemmer=PorterStemmer()\n",
    "\n",
    "\n",
    "def preprocess(document):\n",
    "    document=document.lower()\n",
    "    words=word_tokenize(document)\n",
    "    words=[word for word in words if word not in stopwords.words(\"english\")]\n",
    "    document=\" \".join(words)\n",
    "    return document"
   ]
  },
  {
   "cell_type": "code",
   "execution_count": 6,
   "metadata": {},
   "outputs": [
    {
     "name": "stdout",
     "output_type": "stream",
     "text": [
      "['learning nlp module scratch covers topics like lexical analysis syntactical analysis ,', 'modules help writing better text analytics algorithm thereby helping identifying various predictions .']\n"
     ]
    }
   ],
   "source": [
    "documents = [preprocess(document) for document in documents]\n",
    "print(documents)"
   ]
  },
  {
   "cell_type": "code",
   "execution_count": 7,
   "metadata": {},
   "outputs": [
    {
     "name": "stdout",
     "output_type": "stream",
     "text": [
      "  (0, 16)\t0.27735009811261463\n",
      "  (0, 1)\t0.5547001962252293\n",
      "  (0, 9)\t0.27735009811261463\n",
      "  (0, 10)\t0.27735009811261463\n",
      "  (0, 19)\t0.27735009811261463\n",
      "  (0, 4)\t0.27735009811261463\n",
      "  (0, 15)\t0.27735009811261463\n",
      "  (0, 11)\t0.27735009811261463\n",
      "  (0, 13)\t0.27735009811261463\n",
      "  (0, 8)\t0.27735009811261463\n",
      "  (1, 14)\t0.28867513459481287\n",
      "  (1, 20)\t0.28867513459481287\n",
      "  (1, 7)\t0.28867513459481287\n",
      "  (1, 6)\t0.28867513459481287\n",
      "  (1, 18)\t0.28867513459481287\n",
      "  (1, 0)\t0.28867513459481287\n",
      "  (1, 2)\t0.28867513459481287\n",
      "  (1, 17)\t0.28867513459481287\n",
      "  (1, 3)\t0.28867513459481287\n",
      "  (1, 21)\t0.28867513459481287\n",
      "  (1, 5)\t0.28867513459481287\n",
      "  (1, 12)\t0.28867513459481287\n"
     ]
    }
   ],
   "source": [
    "vectorizer=TfidfVectorizer()\n",
    "tfidf_model = vectorizer.fit_transform(documents)\n",
    "print(tfidf_model)"
   ]
  },
  {
   "cell_type": "code",
   "execution_count": 8,
   "metadata": {},
   "outputs": [
    {
     "name": "stdout",
     "output_type": "stream",
     "text": [
      "[[0.         0.5547002  0.         0.         0.2773501  0.\n",
      "  0.         0.         0.2773501  0.2773501  0.2773501  0.2773501\n",
      "  0.         0.2773501  0.         0.2773501  0.2773501  0.\n",
      "  0.         0.2773501  0.         0.        ]\n",
      " [0.28867513 0.         0.28867513 0.28867513 0.         0.28867513\n",
      "  0.28867513 0.28867513 0.         0.         0.         0.\n",
      "  0.28867513 0.         0.28867513 0.         0.         0.28867513\n",
      "  0.28867513 0.         0.28867513 0.28867513]]\n"
     ]
    }
   ],
   "source": [
    "print(tfidf_model.toarray())"
   ]
  },
  {
   "cell_type": "code",
   "execution_count": 9,
   "metadata": {},
   "outputs": [
    {
     "data": {
      "text/html": [
       "<div>\n",
       "<style scoped>\n",
       "    .dataframe tbody tr th:only-of-type {\n",
       "        vertical-align: middle;\n",
       "    }\n",
       "\n",
       "    .dataframe tbody tr th {\n",
       "        vertical-align: top;\n",
       "    }\n",
       "\n",
       "    .dataframe thead th {\n",
       "        text-align: right;\n",
       "    }\n",
       "</style>\n",
       "<table border=\"1\" class=\"dataframe\">\n",
       "  <thead>\n",
       "    <tr style=\"text-align: right;\">\n",
       "      <th></th>\n",
       "      <th>algorithm</th>\n",
       "      <th>analysis</th>\n",
       "      <th>analytics</th>\n",
       "      <th>better</th>\n",
       "      <th>covers</th>\n",
       "      <th>help</th>\n",
       "      <th>helping</th>\n",
       "      <th>identifying</th>\n",
       "      <th>learning</th>\n",
       "      <th>lexical</th>\n",
       "      <th>...</th>\n",
       "      <th>modules</th>\n",
       "      <th>nlp</th>\n",
       "      <th>predictions</th>\n",
       "      <th>scratch</th>\n",
       "      <th>syntactical</th>\n",
       "      <th>text</th>\n",
       "      <th>thereby</th>\n",
       "      <th>topics</th>\n",
       "      <th>various</th>\n",
       "      <th>writing</th>\n",
       "    </tr>\n",
       "  </thead>\n",
       "  <tbody>\n",
       "    <tr>\n",
       "      <th>0</th>\n",
       "      <td>0.000000</td>\n",
       "      <td>0.5547</td>\n",
       "      <td>0.000000</td>\n",
       "      <td>0.000000</td>\n",
       "      <td>0.27735</td>\n",
       "      <td>0.000000</td>\n",
       "      <td>0.000000</td>\n",
       "      <td>0.000000</td>\n",
       "      <td>0.27735</td>\n",
       "      <td>0.27735</td>\n",
       "      <td>...</td>\n",
       "      <td>0.000000</td>\n",
       "      <td>0.27735</td>\n",
       "      <td>0.000000</td>\n",
       "      <td>0.27735</td>\n",
       "      <td>0.27735</td>\n",
       "      <td>0.000000</td>\n",
       "      <td>0.000000</td>\n",
       "      <td>0.27735</td>\n",
       "      <td>0.000000</td>\n",
       "      <td>0.000000</td>\n",
       "    </tr>\n",
       "    <tr>\n",
       "      <th>1</th>\n",
       "      <td>0.288675</td>\n",
       "      <td>0.0000</td>\n",
       "      <td>0.288675</td>\n",
       "      <td>0.288675</td>\n",
       "      <td>0.00000</td>\n",
       "      <td>0.288675</td>\n",
       "      <td>0.288675</td>\n",
       "      <td>0.288675</td>\n",
       "      <td>0.00000</td>\n",
       "      <td>0.00000</td>\n",
       "      <td>...</td>\n",
       "      <td>0.288675</td>\n",
       "      <td>0.00000</td>\n",
       "      <td>0.288675</td>\n",
       "      <td>0.00000</td>\n",
       "      <td>0.00000</td>\n",
       "      <td>0.288675</td>\n",
       "      <td>0.288675</td>\n",
       "      <td>0.00000</td>\n",
       "      <td>0.288675</td>\n",
       "      <td>0.288675</td>\n",
       "    </tr>\n",
       "  </tbody>\n",
       "</table>\n",
       "<p>2 rows × 22 columns</p>\n",
       "</div>"
      ],
      "text/plain": [
       "   algorithm  analysis  analytics    better   covers      help   helping  \\\n",
       "0   0.000000    0.5547   0.000000  0.000000  0.27735  0.000000  0.000000   \n",
       "1   0.288675    0.0000   0.288675  0.288675  0.00000  0.288675  0.288675   \n",
       "\n",
       "   identifying  learning  lexical  ...   modules      nlp  predictions  \\\n",
       "0     0.000000   0.27735  0.27735  ...  0.000000  0.27735     0.000000   \n",
       "1     0.288675   0.00000  0.00000  ...  0.288675  0.00000     0.288675   \n",
       "\n",
       "   scratch  syntactical      text   thereby   topics   various   writing  \n",
       "0  0.27735      0.27735  0.000000  0.000000  0.27735  0.000000  0.000000  \n",
       "1  0.00000      0.00000  0.288675  0.288675  0.00000  0.288675  0.288675  \n",
       "\n",
       "[2 rows x 22 columns]"
      ]
     },
     "execution_count": 9,
     "metadata": {},
     "output_type": "execute_result"
    }
   ],
   "source": [
    "pd.DataFrame(tfidf_model.toarray(),columns=vectorizer.get_feature_names())"
   ]
  },
  {
   "cell_type": "code",
   "execution_count": null,
   "metadata": {},
   "outputs": [],
   "source": []
  }
 ],
 "metadata": {
  "kernelspec": {
   "display_name": "Python 3",
   "language": "python",
   "name": "python3"
  },
  "language_info": {
   "codemirror_mode": {
    "name": "ipython",
    "version": 3
   },
   "file_extension": ".py",
   "mimetype": "text/x-python",
   "name": "python",
   "nbconvert_exporter": "python",
   "pygments_lexer": "ipython3",
   "version": "3.7.3"
  }
 },
 "nbformat": 4,
 "nbformat_minor": 2
}
